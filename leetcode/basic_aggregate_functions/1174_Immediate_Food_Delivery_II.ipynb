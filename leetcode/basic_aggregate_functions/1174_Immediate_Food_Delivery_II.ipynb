{
 "cells": [
  {
   "cell_type": "code",
   "execution_count": null,
   "metadata": {},
   "outputs": [],
   "source": [
    "!pip install pandas\n",
    "!pip install pyspark\n",
    "!pip install pyarrow"
   ]
  },
  {
   "cell_type": "code",
   "execution_count": null,
   "metadata": {},
   "outputs": [],
   "source": [
    "from pyspark.sql import SparkSession\n",
    " \n",
    "# Building the SparkSession and name \n",
    "# it :'pandas to spark'\n",
    "spark = SparkSession.builder.appName(\n",
    "  \"pandas to spark\").getOrCreate()\n",
    "\n",
    "spark.conf.set(\"spark.sql.execution.arrow.pyspark.enabled\", \"true\")"
   ]
  },
  {
   "cell_type": "code",
   "execution_count": 3,
   "metadata": {},
   "outputs": [],
   "source": [
    "import pandas as pd\n",
    "\n",
    "data = [[1, 1, '2019-08-01', '2019-08-02'], [2, 2, '2019-08-02', '2019-08-02'], [3, 1, '2019-08-11', '2019-08-12'], [4, 3, '2019-08-24', '2019-08-24'], [5, 3, '2019-08-21', '2019-08-22'], [6, 2, '2019-08-11', '2019-08-13'], [7, 4, '2019-08-09', '2019-08-09']]\n",
    "delivery = pd.DataFrame(data, columns=['delivery_id', 'customer_id', 'order_date', 'customer_pref_delivery_date']).astype({'delivery_id':'Int64', 'customer_id':'Int64', 'order_date':'datetime64[ns]', 'customer_pref_delivery_date':'datetime64[ns]'})"
   ]
  },
  {
   "cell_type": "code",
   "execution_count": 4,
   "metadata": {},
   "outputs": [
    {
     "name": "stdout",
     "output_type": "stream",
     "text": [
      "+-----------+-----------+-------------------+---------------------------+\n",
      "|delivery_id|customer_id|         order_date|customer_pref_delivery_date|\n",
      "+-----------+-----------+-------------------+---------------------------+\n",
      "|          1|          1|2019-08-01 00:00:00|        2019-08-02 00:00:00|\n",
      "|          2|          2|2019-08-02 00:00:00|        2019-08-02 00:00:00|\n",
      "|          3|          1|2019-08-11 00:00:00|        2019-08-12 00:00:00|\n",
      "|          4|          3|2019-08-24 00:00:00|        2019-08-24 00:00:00|\n",
      "|          5|          3|2019-08-21 00:00:00|        2019-08-22 00:00:00|\n",
      "|          6|          2|2019-08-11 00:00:00|        2019-08-13 00:00:00|\n",
      "|          7|          4|2019-08-09 00:00:00|        2019-08-09 00:00:00|\n",
      "+-----------+-----------+-------------------+---------------------------+\n",
      "\n"
     ]
    }
   ],
   "source": [
    "delivery = spark.createDataFrame(delivery)\n",
    "delivery.show()"
   ]
  },
  {
   "cell_type": "code",
   "execution_count": 10,
   "metadata": {},
   "outputs": [
    {
     "name": "stdout",
     "output_type": "stream",
     "text": [
      "+--------------------+\n",
      "|immediate_percentage|\n",
      "+--------------------+\n",
      "|                50.0|\n",
      "+--------------------+\n",
      "\n"
     ]
    }
   ],
   "source": [
    "from pyspark.sql.functions import when, count, sum, round, col, row_number\n",
    "from pyspark.sql import Window\n",
    "\n",
    "delivery \\\n",
    ".withColumn('state', when(col('order_date') == col('customer_pref_delivery_date'), 1).otherwise(0)) \\\n",
    ".withColumn('row_number', \n",
    "            row_number() \\\n",
    "                    .over(Window.partitionBy('customer_id') \\\n",
    "                                .orderBy(['customer_id', 'order_date']))) \\\n",
    ".where('row_number == 1') \\\n",
    ".groupby('row_number') \\\n",
    ".agg(sum('state').alias('no_of_immediate_on_first'),\n",
    "     count('state').alias('total_no_of_immediate')) \\\n",
    ".withColumn('immediate_percentage', \n",
    "            round(col('no_of_immediate_on_first') / col('total_no_of_immediate') * 100, 2)) \\\n",
    ".select('immediate_percentage') \\\n",
    ".show()"
   ]
  }
 ],
 "metadata": {
  "kernelspec": {
   "display_name": "path",
   "language": "python",
   "name": "python3"
  },
  "language_info": {
   "codemirror_mode": {
    "name": "ipython",
    "version": 3
   },
   "file_extension": ".py",
   "mimetype": "text/x-python",
   "name": "python",
   "nbconvert_exporter": "python",
   "pygments_lexer": "ipython3",
   "version": "3.13.0"
  }
 },
 "nbformat": 4,
 "nbformat_minor": 4
}
