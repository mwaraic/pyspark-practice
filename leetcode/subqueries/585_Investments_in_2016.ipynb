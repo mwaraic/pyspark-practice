{
 "cells": [
  {
   "cell_type": "code",
   "execution_count": null,
   "metadata": {},
   "outputs": [],
   "source": [
    "!pip install pandas\n",
    "!pip install pyspark\n",
    "!pip install pyarrow"
   ]
  },
  {
   "cell_type": "code",
   "execution_count": null,
   "metadata": {},
   "outputs": [],
   "source": [
    "from pyspark.sql import SparkSession\n",
    " \n",
    "# Building the SparkSession and name \n",
    "# it :'pandas to spark'\n",
    "spark = SparkSession.builder.appName(\n",
    "  \"pandas to spark\").getOrCreate()\n",
    "\n",
    "spark.conf.set(\"spark.sql.execution.arrow.pyspark.enabled\", \"true\")"
   ]
  },
  {
   "cell_type": "code",
   "execution_count": 2,
   "metadata": {},
   "outputs": [],
   "source": [
    "import pandas as pd\n",
    "\n",
    "data = [[1, 10, 5, 10, 10], [2, 20, 20, 20, 20], [3, 10, 30, 20, 20], [4, 10, 40, 40, 40]]\n",
    "insurance = pd.DataFrame(data, columns=['pid', 'tiv_2015', 'tiv_2016', 'lat', 'lon']).astype({'pid':'Int64', 'tiv_2015':'Float64', 'tiv_2016':'Float64', 'lat':'Float64', 'lon':'Float64'})"
   ]
  },
  {
   "cell_type": "code",
   "execution_count": 3,
   "metadata": {},
   "outputs": [
    {
     "name": "stdout",
     "output_type": "stream",
     "text": [
      "+---+--------+--------+----+----+\n",
      "|pid|tiv_2015|tiv_2016| lat| lon|\n",
      "+---+--------+--------+----+----+\n",
      "|  1|    10.0|     5.0|10.0|10.0|\n",
      "|  2|    20.0|    20.0|20.0|20.0|\n",
      "|  3|    10.0|    30.0|20.0|20.0|\n",
      "|  4|    10.0|    40.0|40.0|40.0|\n",
      "+---+--------+--------+----+----+\n",
      "\n"
     ]
    }
   ],
   "source": [
    "insurance = spark.createDataFrame(insurance)\n",
    "insurance.show()"
   ]
  },
  {
   "cell_type": "code",
   "execution_count": 4,
   "metadata": {},
   "outputs": [
    {
     "name": "stderr",
     "output_type": "stream",
     "text": [
      "                                                                                \r"
     ]
    },
    {
     "name": "stdout",
     "output_type": "stream",
     "text": [
      "+--------+\n",
      "|tiv_2016|\n",
      "+--------+\n",
      "|    45.0|\n",
      "+--------+\n",
      "\n"
     ]
    }
   ],
   "source": [
    "from pyspark.sql.functions import count, col, sum, round\n",
    "\n",
    "investment = insurance \\\n",
    "            .groupby('tiv_2015') \\\n",
    "            .agg(count('pid').alias('count')) \\\n",
    "            .where('count > 1')\n",
    "\n",
    "location = insurance \\\n",
    "            .groupby(['lat', 'lon']) \\\n",
    "            .agg(count('pid').alias('count')) \\\n",
    "            .where('count == 1')\n",
    "\n",
    "report = insurance \\\n",
    "         .where(col('tiv_2015').isin(investment.toPandas()['tiv_2015'].to_list()) \\\n",
    "                & col('lat').isin(location.toPandas()['lat'].to_list()) \\\n",
    "                & col('lon').isin(location.toPandas()['lon'].to_list())   ) \\\n",
    "         .agg(round(sum('tiv_2016'), 2).alias('tiv_2016'))\n",
    "\n",
    "report.show()"
   ]
  },
  {
   "cell_type": "code",
   "execution_count": 5,
   "metadata": {},
   "outputs": [
    {
     "name": "stdout",
     "output_type": "stream",
     "text": [
      "3 4 + 2 5 + - 1 5 - -\n"
     ]
    }
   ],
   "source": [
    "# Shunting Yard Algorithm \n",
    "\n",
    "infix_expression = '(3 + 4) - (2 + 5) - (1 - 5)'\n",
    "\n",
    "output, operators = [], []\n",
    "\n",
    "precedences = {'+' : 0, '-' : 0, '*' : 1, '/' : 1}\n",
    "\n",
    "for value in infix_expression:\n",
    "    if ord('0') <= ord(value) <= ord('9'):\n",
    "        output.append(value)\n",
    "    elif value in precedences.keys():\n",
    "        while len(operators) > 0 and operators[0] != '(' and precedences[operators[0]] >= precedences[value]:\n",
    "            output.append(operators.pop(0))\n",
    "        operators.insert(0, value)\n",
    "    elif value == '(':\n",
    "        operators.insert(0, value)\n",
    "    elif value == ')':\n",
    "        while len(operators) > 0 and operators[0] != '(':\n",
    "            output.append(operators.pop(0))\n",
    "        if len(operators) > 0 and operators[0] == '(':\n",
    "            operators.pop(0)\n",
    "\n",
    "while len(operators) > 0 and operators[0] != '(':\n",
    "    output.append(operators.pop(0))\n",
    "\n",
    "postfix_expression = ' '.join(output)\n",
    "\n",
    "print(postfix_expression)\n"
   ]
  },
  {
   "cell_type": "code",
   "execution_count": 6,
   "metadata": {},
   "outputs": [
    {
     "name": "stdout",
     "output_type": "stream",
     "text": [
      "4\n"
     ]
    }
   ],
   "source": [
    "# Calculation\n",
    "def operate(value_1, operator, value_2):\n",
    "    if operator == '+':\n",
    "        return value_1 + value_2\n",
    "    elif operator == '-':\n",
    "        return value_1 - value_2\n",
    "    elif operator == '/':\n",
    "        return value_1 / value_2\n",
    "    elif operator == '*':\n",
    "        return value_1 * value_2\n",
    "    \n",
    "output = []\n",
    "\n",
    "for value in postfix_expression:\n",
    "    if ord('0') <= ord(value) <= ord('9'):\n",
    "        output.append(int(value))\n",
    "    elif value in precedences.keys():\n",
    "        item_1 = output.pop()\n",
    "        item_2 = output.pop()\n",
    "        output.append(operate(item_2, value, item_1))\n",
    "\n",
    "print(output[0])\n",
    "\n"
   ]
  },
  {
   "cell_type": "code",
   "execution_count": 7,
   "metadata": {},
   "outputs": [
    {
     "name": "stdout",
     "output_type": "stream",
     "text": [
      "1243\n",
      "\n",
      "4231\n",
      "\n",
      "4213"
     ]
    }
   ],
   "source": [
    "# Binary Tree\n",
    "\n",
    "class Node:\n",
    "    def __init__(self, d):\n",
    "        self.data = d\n",
    "        self.right = None\n",
    "        self.left = None\n",
    "\n",
    "firstNode = Node(1)\n",
    "secondNode = Node(2)\n",
    "thirdNode = Node(3)\n",
    "fourthNode = Node(4)\n",
    "\n",
    "firstNode.left = secondNode\n",
    "firstNode.right = thirdNode\n",
    "secondNode.left = fourthNode\n",
    "\n",
    "def pre_order_dfs(node):\n",
    "    if node is None:\n",
    "        return\n",
    "    print(node.data, end='')\n",
    "    pre_order_dfs(node.left)\n",
    "    pre_order_dfs(node.right)\n",
    "\n",
    "def post_order_dfs(node):\n",
    "    if node is None:\n",
    "        return\n",
    "    post_order_dfs(node.left)\n",
    "    post_order_dfs(node.right)\n",
    "    print(node.data, end='')\n",
    "\n",
    "def in_order_dfs(node):\n",
    "    if node is None:\n",
    "        return\n",
    "    in_order_dfs(node.left)\n",
    "    print(node.data, end='')\n",
    "    in_order_dfs(node.right)\n",
    "\n",
    "pre_order_dfs(firstNode)\n",
    "print('\\n')\n",
    "post_order_dfs(firstNode)\n",
    "print('\\n')\n",
    "in_order_dfs(firstNode)\n"
   ]
  },
  {
   "cell_type": "code",
   "execution_count": 8,
   "metadata": {},
   "outputs": [
    {
     "name": "stdout",
     "output_type": "stream",
     "text": [
      "2+8-7-8"
     ]
    }
   ],
   "source": [
    "# Parse Tree\n",
    "\n",
    "infix_expression = '( ( 2 + 8 ) - ( 7 - 8 ) )'\n",
    "currentNode = Node(None)\n",
    "parentStack = [currentNode]\n",
    "\n",
    "for value in infix_expression.split():\n",
    "    if value == '(':\n",
    "        currentNode.left = Node(None)\n",
    "        parentStack.insert(0, currentNode)\n",
    "        currentNode = currentNode.left\n",
    "    elif value in [\"+\", \"-\", \"/\", \"*\"]:\n",
    "        currentNode.data = value\n",
    "        currentNode.right = Node(None)\n",
    "        parentStack.insert(0, currentNode)\n",
    "        currentNode = currentNode.right\n",
    "    elif ord('0') <= ord(value) <= ord('9'):\n",
    "        currentNode.data = value\n",
    "        currentNode = parentStack.pop(0)\n",
    "    elif value == ')':\n",
    "        currentNode = parentStack.pop(0)\n",
    "    else: \n",
    "        raise Exception('illegal argument')\n",
    "\n",
    "in_order_dfs(currentNode)"
   ]
  },
  {
   "cell_type": "code",
   "execution_count": 9,
   "metadata": {},
   "outputs": [
    {
     "data": {
      "text/plain": [
       "11"
      ]
     },
     "execution_count": 9,
     "metadata": {},
     "output_type": "execute_result"
    }
   ],
   "source": [
    "# Evaluation\n",
    "\n",
    "def evaluate(node: Node):\n",
    "    leftchild = node.left\n",
    "    rightchild = node.right\n",
    "\n",
    "    if leftchild != None and rightchild != None:\n",
    "        operator = node.data\n",
    "        leftoperand = evaluate(leftchild)\n",
    "        rightoperand = evaluate(rightchild)\n",
    "        return operate(leftoperand, operator, rightoperand)\n",
    "    else:\n",
    "        return int(node.data)\n",
    "\n",
    "evaluate(currentNode)"
   ]
  }
 ],
 "metadata": {
  "kernelspec": {
   "display_name": "path",
   "language": "python",
   "name": "python3"
  },
  "language_info": {
   "codemirror_mode": {
    "name": "ipython",
    "version": 3
   },
   "file_extension": ".py",
   "mimetype": "text/x-python",
   "name": "python",
   "nbconvert_exporter": "python",
   "pygments_lexer": "ipython3",
   "version": "3.13.0"
  }
 },
 "nbformat": 4,
 "nbformat_minor": 4
}
