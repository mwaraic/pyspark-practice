{
 "cells": [
  {
   "cell_type": "code",
   "execution_count": null,
   "metadata": {},
   "outputs": [],
   "source": [
    "!pip install pandas\n",
    "!pip install pyspark\n",
    "!pip install pyarrow"
   ]
  },
  {
   "cell_type": "code",
   "execution_count": null,
   "metadata": {},
   "outputs": [],
   "source": [
    "from pyspark.sql import SparkSession\n",
    " \n",
    "# Building the SparkSession and name \n",
    "# it :'pandas to spark'\n",
    "spark = SparkSession.builder.appName(\n",
    "  \"pandas to spark\").getOrCreate()\n",
    "\n",
    "spark.conf.set(\"spark.sql.execution.arrow.pyspark.enabled\", \"true\")"
   ]
  },
  {
   "cell_type": "code",
   "execution_count": 3,
   "metadata": {},
   "outputs": [],
   "source": [
    "import pandas as pd\n",
    "\n",
    "data = [['Dog', 'Golden Retriever', 1, 5], ['Dog', 'German Shepherd', 2, 5], ['Dog', 'Mule', 200, 1], ['Cat', 'Shirazi', 5, 2], ['Cat', 'Siamese', 3, 3], ['Cat', 'Sphynx', 7, 4]]\n",
    "queries = pd.DataFrame(data, columns=['query_name', 'result', 'position', 'rating']).astype({'query_name':'object', 'result':'object', 'position':'Int64', 'rating':'Int64'})"
   ]
  },
  {
   "cell_type": "code",
   "execution_count": 5,
   "metadata": {},
   "outputs": [
    {
     "name": "stdout",
     "output_type": "stream",
     "text": [
      "+----------+----------------+--------+------+\n",
      "|query_name|          result|position|rating|\n",
      "+----------+----------------+--------+------+\n",
      "|       Dog|Golden Retriever|       1|     5|\n",
      "|       Dog| German Shepherd|       2|     5|\n",
      "|       Dog|            Mule|     200|     1|\n",
      "|       Cat|         Shirazi|       5|     2|\n",
      "|       Cat|         Siamese|       3|     3|\n",
      "|       Cat|          Sphynx|       7|     4|\n",
      "+----------+----------------+--------+------+\n",
      "\n"
     ]
    }
   ],
   "source": [
    "queries = spark.createDataFrame(queries)\n",
    "queries.show()"
   ]
  },
  {
   "cell_type": "code",
   "execution_count": 18,
   "metadata": {},
   "outputs": [
    {
     "name": "stdout",
     "output_type": "stream",
     "text": [
      "+----------+-------+---------------------+\n",
      "|query_name|quality|poor_query_percentage|\n",
      "+----------+-------+---------------------+\n",
      "|       Dog|    2.5|                33.33|\n",
      "|       Cat|   0.66|                33.33|\n",
      "+----------+-------+---------------------+\n",
      "\n"
     ]
    }
   ],
   "source": [
    "from pyspark.sql.functions import count, col, round, when\n",
    "\n",
    "queries \\\n",
    ".withColumn('ratio', col('rating')/col('position')) \\\n",
    ".withColumn('poor_rating', when(col('rating') < 3, 1).otherwise(0)) \\\n",
    ".groupby('query_name') \\\n",
    ".agg(sum('poor_rating').alias('poor_rating'), \n",
    "     count('result').alias('total'),\n",
    "     sum('ratio').alias('ratio')) \\\n",
    ".withColumn('quality', round(col('ratio') / col('total'), 2)) \\\n",
    ".withColumn('poor_query_percentage', round(col('poor_rating')/col('total') * 100, 2)) \\\n",
    ".select(['query_name', 'quality', 'poor_query_percentage']) \\\n",
    ".show()"
   ]
  }
 ],
 "metadata": {
  "kernelspec": {
   "display_name": "path",
   "language": "python",
   "name": "python3"
  },
  "language_info": {
   "codemirror_mode": {
    "name": "ipython",
    "version": 3
   },
   "file_extension": ".py",
   "mimetype": "text/x-python",
   "name": "python",
   "nbconvert_exporter": "python",
   "pygments_lexer": "ipython3",
   "version": "3.13.0"
  }
 },
 "nbformat": 4,
 "nbformat_minor": 4
}
