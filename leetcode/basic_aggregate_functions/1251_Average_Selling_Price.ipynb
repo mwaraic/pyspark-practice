{
 "cells": [
  {
   "cell_type": "code",
   "execution_count": null,
   "metadata": {},
   "outputs": [],
   "source": [
    "!pip install pandas\n",
    "!pip install pyspark\n",
    "!pip install pyarrow"
   ]
  },
  {
   "cell_type": "code",
   "execution_count": null,
   "metadata": {},
   "outputs": [],
   "source": [
    "from pyspark.sql import SparkSession\n",
    " \n",
    "# Building the SparkSession and name \n",
    "# it :'pandas to spark'\n",
    "spark = SparkSession.builder.appName(\n",
    "  \"pandas to spark\").getOrCreate()\n",
    "\n",
    "spark.conf.set(\"spark.sql.execution.arrow.pyspark.enabled\", \"true\")"
   ]
  },
  {
   "cell_type": "code",
   "execution_count": 3,
   "metadata": {},
   "outputs": [],
   "source": [
    "import pandas as pd\n",
    "\n",
    "data = [[1, '2019-02-17', '2019-02-28', 5], [1, '2019-03-01', '2019-03-22', 20], [2, '2019-02-01', '2019-02-20', 15], [2, '2019-02-21', '2019-03-31', 30]]\n",
    "prices = pd.DataFrame(data, columns=['product_id', 'start_date', 'end_date', 'price']).astype({'product_id':'Int64', 'start_date':'datetime64[ns]', 'end_date':'datetime64[ns]', 'price':'Int64'})\n",
    "data = [[1, '2019-02-25', 100], [1, '2019-03-01', 15], [2, '2019-02-10', 200], [2, '2019-03-22', 30]]\n",
    "units_sold = pd.DataFrame(data, columns=['product_id', 'purchase_date', 'units']).astype({'product_id':'Int64', 'purchase_date':'datetime64[ns]', 'units':'Int64'})"
   ]
  },
  {
   "cell_type": "code",
   "execution_count": 4,
   "metadata": {},
   "outputs": [
    {
     "name": "stdout",
     "output_type": "stream",
     "text": [
      "+----------+-------------------+-------------------+-----+\n",
      "|product_id|         start_date|           end_date|price|\n",
      "+----------+-------------------+-------------------+-----+\n",
      "|         1|2019-02-17 00:00:00|2019-02-28 00:00:00|    5|\n",
      "|         1|2019-03-01 00:00:00|2019-03-22 00:00:00|   20|\n",
      "|         2|2019-02-01 00:00:00|2019-02-20 00:00:00|   15|\n",
      "|         2|2019-02-21 00:00:00|2019-03-31 00:00:00|   30|\n",
      "+----------+-------------------+-------------------+-----+\n",
      "\n",
      "+----------+-------------------+-----+\n",
      "|product_id|      purchase_date|units|\n",
      "+----------+-------------------+-----+\n",
      "|         1|2019-02-25 00:00:00|  100|\n",
      "|         1|2019-03-01 00:00:00|   15|\n",
      "|         2|2019-02-10 00:00:00|  200|\n",
      "|         2|2019-03-22 00:00:00|   30|\n",
      "+----------+-------------------+-----+\n",
      "\n"
     ]
    }
   ],
   "source": [
    "prices = spark.createDataFrame(prices)\n",
    "prices.show()\n",
    "\n",
    "units_sold = spark.createDataFrame(units_sold)\n",
    "units_sold.show()"
   ]
  },
  {
   "cell_type": "code",
   "execution_count": 15,
   "metadata": {},
   "outputs": [
    {
     "name": "stdout",
     "output_type": "stream",
     "text": [
      "+----------+-------------+\n",
      "|product_id|average_price|\n",
      "+----------+-------------+\n",
      "|         1|         6.96|\n",
      "|         2|        16.96|\n",
      "+----------+-------------+\n",
      "\n"
     ]
    }
   ],
   "source": [
    "from pyspark.sql.functions import col, round, sum\n",
    "\n",
    "prices \\\n",
    "    .join(\n",
    "        units_sold,\n",
    "        'product_id',\n",
    "        'inner'\n",
    "    ) \\\n",
    ".where('start_date <= purchase_date and end_date >= purchase_date') \\\n",
    ".withColumn('total_amount', col('price') * col('units')) \\\n",
    ".groupby('product_id') \\\n",
    ".agg(sum('units').alias('number_of_products_sold'), \n",
    "     sum('total_amount').alias('total_price_of_product')) \\\n",
    ".withColumn('average_price', \n",
    "            round(col('total_price_of_product') / col('number_of_products_sold'), 2)) \\\n",
    ".select(['product_id', 'average_price']) \\\n",
    ".show()"
   ]
  }
 ],
 "metadata": {
  "kernelspec": {
   "display_name": "path",
   "language": "python",
   "name": "python3"
  },
  "language_info": {
   "codemirror_mode": {
    "name": "ipython",
    "version": 3
   },
   "file_extension": ".py",
   "mimetype": "text/x-python",
   "name": "python",
   "nbconvert_exporter": "python",
   "pygments_lexer": "ipython3",
   "version": "3.13.0"
  }
 },
 "nbformat": 4,
 "nbformat_minor": 4
}
