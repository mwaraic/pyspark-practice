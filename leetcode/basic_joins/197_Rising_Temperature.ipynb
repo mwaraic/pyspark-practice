{
 "cells": [
  {
   "cell_type": "code",
   "execution_count": null,
   "metadata": {},
   "outputs": [],
   "source": [
    "!pip install pandas\n",
    "!pip install pyspark\n",
    "!pip install pyarrow"
   ]
  },
  {
   "cell_type": "code",
   "execution_count": null,
   "metadata": {},
   "outputs": [],
   "source": [
    "from pyspark.sql import SparkSession\n",
    " \n",
    "# Building the SparkSession and name \n",
    "# it :'pandas to spark'\n",
    "spark = SparkSession.builder.appName(\n",
    "  \"pandas to spark\").getOrCreate()\n",
    "\n",
    "spark.conf.set(\"spark.sql.execution.arrow.pyspark.enabled\", \"true\")"
   ]
  },
  {
   "cell_type": "code",
   "execution_count": 66,
   "metadata": {},
   "outputs": [],
   "source": [
    "import pandas as pd\n",
    "\n",
    "data = [[1, '2015-01-01', 10], [2, '2015-01-02', 25], [3, '2015-01-03', 20], [4, '2015-01-04', 30]]\n",
    "weather = pd.DataFrame(data, columns=['id', 'recordDate', 'temperature']).astype({'id':'Int64', 'recordDate':'datetime64[ns]', 'temperature':'Int64'})"
   ]
  },
  {
   "cell_type": "code",
   "execution_count": 67,
   "metadata": {},
   "outputs": [
    {
     "name": "stdout",
     "output_type": "stream",
     "text": [
      "+---+-------------------+-----------+\n",
      "| id|         recordDate|temperature|\n",
      "+---+-------------------+-----------+\n",
      "|  1|2015-01-01 00:00:00|         10|\n",
      "|  2|2015-01-02 00:00:00|         25|\n",
      "|  3|2015-01-03 00:00:00|         20|\n",
      "|  4|2015-01-04 00:00:00|         30|\n",
      "+---+-------------------+-----------+\n",
      "\n"
     ]
    }
   ],
   "source": [
    "weather = spark.createDataFrame(weather)\n",
    "weather.show()"
   ]
  },
  {
   "cell_type": "code",
   "execution_count": 68,
   "metadata": {},
   "outputs": [
    {
     "name": "stdout",
     "output_type": "stream",
     "text": [
      "+---+\n",
      "| id|\n",
      "+---+\n",
      "|  2|\n",
      "|  4|\n",
      "+---+\n",
      "\n"
     ]
    }
   ],
   "source": [
    "from pyspark.sql.functions import lag, lit\n",
    "from pyspark.sql import Window\n",
    "\n",
    "weather \\\n",
    ".withColumn('constant', lit('abc')) \\\n",
    ".withColumn('previous_temperature', lag('temperature', 1) \\\n",
    "            .over(Window.partitionBy(\"constant\").orderBy(\"constant\"))) \\\n",
    ".withColumn('previous_recordDate', lag('recordDate', 1) \\\n",
    "            .over(Window.partitionBy(\"constant\").orderBy(\"constant\"))) \\\n",
    ".where(\"\"\"temperature > previous_temperature \n",
    "          and datediff(recordDate, previous_recordDate) == 1\"\"\") \\\n",
    ".select('id') \\\n",
    ".show()"
   ]
  }
 ],
 "metadata": {
  "kernelspec": {
   "display_name": "path",
   "language": "python",
   "name": "python3"
  },
  "language_info": {
   "codemirror_mode": {
    "name": "ipython",
    "version": 3
   },
   "file_extension": ".py",
   "mimetype": "text/x-python",
   "name": "python",
   "nbconvert_exporter": "python",
   "pygments_lexer": "ipython3",
   "version": "3.13.0"
  }
 },
 "nbformat": 4,
 "nbformat_minor": 4
}
