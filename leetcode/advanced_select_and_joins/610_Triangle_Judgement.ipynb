{
 "cells": [
  {
   "cell_type": "code",
   "execution_count": null,
   "metadata": {},
   "outputs": [],
   "source": [
    "!pip install pandas\n",
    "!pip install pyspark\n",
    "!pip install pyarrow"
   ]
  },
  {
   "cell_type": "code",
   "execution_count": null,
   "metadata": {},
   "outputs": [],
   "source": [
    "from pyspark.sql import SparkSession\n",
    " \n",
    "# Building the SparkSession and name \n",
    "# it :'pandas to spark'\n",
    "spark = SparkSession.builder.appName(\n",
    "  \"pandas to spark\").getOrCreate()\n",
    "\n",
    "spark.conf.set(\"spark.sql.execution.arrow.pyspark.enabled\", \"true\")"
   ]
  },
  {
   "cell_type": "code",
   "execution_count": 15,
   "metadata": {},
   "outputs": [],
   "source": [
    "import pandas as pd\n",
    "\n",
    "data = [\n",
    "    [11, 68, 57], [89, 45, 41], [66, 85, 43], [95, 146, 61],\n",
    "    [49, 33, 136], [87, 34, 125], [42, 32, 39], [86, 87, 100],\n",
    "    [33, 58, 57], [10, 47, 94], [87, 41, 30], [33, 20, 145],\n",
    "    [51, 29, 113], [102, 78, 129], [68, 68, 87], [16, 132, 52],\n",
    "    [41, 1, 40], [52, 129, 149], [51, 17, 64], [21, 106, 51],\n",
    "    [87, 53, 79], [11, 126, 47], [31, 97, 96], [94, 88, 75],\n",
    "    [22, 73, 36], [92, 142, 59], [51, 53, 87], [46, 58, 129],\n",
    "    [107, 60, 36], [18, 37, 148], [28, 149, 74], [98, 47, 139],\n",
    "    [71, 51, 129], [25, 44, 147], [13, 37, 42]\n",
    "]\n",
    "triangle = pd.DataFrame(data, columns=['x', 'y', 'z']).astype({'x':'Int64', 'y':'Int64', 'z':'Int64'})"
   ]
  },
  {
   "cell_type": "code",
   "execution_count": 16,
   "metadata": {},
   "outputs": [
    {
     "name": "stdout",
     "output_type": "stream",
     "text": [
      "+---+---+---+\n",
      "|  x|  y|  z|\n",
      "+---+---+---+\n",
      "| 11| 68| 57|\n",
      "| 89| 45| 41|\n",
      "| 66| 85| 43|\n",
      "| 95|146| 61|\n",
      "| 49| 33|136|\n",
      "| 87| 34|125|\n",
      "| 42| 32| 39|\n",
      "| 86| 87|100|\n",
      "| 33| 58| 57|\n",
      "| 10| 47| 94|\n",
      "| 87| 41| 30|\n",
      "| 33| 20|145|\n",
      "| 51| 29|113|\n",
      "|102| 78|129|\n",
      "| 68| 68| 87|\n",
      "| 16|132| 52|\n",
      "| 41|  1| 40|\n",
      "| 52|129|149|\n",
      "| 51| 17| 64|\n",
      "| 21|106| 51|\n",
      "+---+---+---+\n",
      "only showing top 20 rows\n",
      "\n"
     ]
    }
   ],
   "source": [
    "triangle = spark.createDataFrame(triangle)\n",
    "triangle.show()"
   ]
  },
  {
   "cell_type": "code",
   "execution_count": 17,
   "metadata": {},
   "outputs": [
    {
     "name": "stdout",
     "output_type": "stream",
     "text": [
      "+---+---+---+--------+\n",
      "|  x|  y|  z|triangle|\n",
      "+---+---+---+--------+\n",
      "| 11| 68| 57|      No|\n",
      "| 89| 45| 41|      No|\n",
      "| 66| 85| 43|     Yes|\n",
      "| 95|146| 61|     Yes|\n",
      "| 49| 33|136|      No|\n",
      "| 87| 34|125|      No|\n",
      "| 42| 32| 39|     Yes|\n",
      "| 86| 87|100|     Yes|\n",
      "| 33| 58| 57|     Yes|\n",
      "| 10| 47| 94|      No|\n",
      "| 87| 41| 30|      No|\n",
      "| 33| 20|145|      No|\n",
      "| 51| 29|113|      No|\n",
      "|102| 78|129|     Yes|\n",
      "| 68| 68| 87|     Yes|\n",
      "| 16|132| 52|      No|\n",
      "| 41|  1| 40|      No|\n",
      "| 52|129|149|     Yes|\n",
      "| 51| 17| 64|     Yes|\n",
      "| 21|106| 51|      No|\n",
      "+---+---+---+--------+\n",
      "only showing top 20 rows\n",
      "\n"
     ]
    }
   ],
   "source": [
    "from pyspark.sql.functions import when, col, abs\n",
    "\n",
    "triangle \\\n",
    ".withColumn('triangle', \n",
    "            when(condition=(\n",
    "                            (abs(col('x')) + abs(col('y')) > abs(col('z'))) &\n",
    "                            (abs(col('x')) + abs(col('z')) > abs(col('y'))) &\n",
    "                            (abs(col('z')) + abs(col('y')) > abs(col('x')))\n",
    "                            ), value='Yes')\n",
    "            .otherwise('No')) \\\n",
    ".show()\n"
   ]
  }
 ],
 "metadata": {
  "kernelspec": {
   "display_name": "path",
   "language": "python",
   "name": "python3"
  },
  "language_info": {
   "codemirror_mode": {
    "name": "ipython",
    "version": 3
   },
   "file_extension": ".py",
   "mimetype": "text/x-python",
   "name": "python",
   "nbconvert_exporter": "python",
   "pygments_lexer": "ipython3",
   "version": "3.13.0"
  }
 },
 "nbformat": 4,
 "nbformat_minor": 4
}
