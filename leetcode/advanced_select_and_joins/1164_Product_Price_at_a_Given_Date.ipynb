{
 "cells": [
  {
   "cell_type": "code",
   "execution_count": null,
   "metadata": {},
   "outputs": [],
   "source": [
    "!pip install pandas\n",
    "!pip install pyspark\n",
    "!pip install pyarrow"
   ]
  },
  {
   "cell_type": "code",
   "execution_count": null,
   "metadata": {},
   "outputs": [],
   "source": [
    "from pyspark.sql import SparkSession\n",
    " \n",
    "# Building the SparkSession and name \n",
    "# it :'pandas to spark'\n",
    "spark = SparkSession.builder.appName(\n",
    "  \"pandas to spark\").getOrCreate()\n",
    "\n",
    "spark.conf.set(\"spark.sql.execution.arrow.pyspark.enabled\", \"true\")"
   ]
  },
  {
   "cell_type": "code",
   "execution_count": 3,
   "metadata": {},
   "outputs": [],
   "source": [
    "import pandas as pd\n",
    "\n",
    "data = [[1, 20, '2019-08-14'], [2, 50, '2019-08-14'], [1, 30, '2019-08-15'], [1, 35, '2019-08-16'], [2, 65, '2019-08-17'], [3, 20, '2019-08-18']]\n",
    "products = pd.DataFrame(data, columns=['product_id', 'new_price', 'change_date']).astype({'product_id':'Int64', 'new_price':'Int64', 'change_date':'datetime64[ns]'})"
   ]
  },
  {
   "cell_type": "code",
   "execution_count": 4,
   "metadata": {},
   "outputs": [
    {
     "name": "stdout",
     "output_type": "stream",
     "text": [
      "+----------+---------+-------------------+\n",
      "|product_id|new_price|        change_date|\n",
      "+----------+---------+-------------------+\n",
      "|         1|       20|2019-08-14 00:00:00|\n",
      "|         2|       50|2019-08-14 00:00:00|\n",
      "|         1|       30|2019-08-15 00:00:00|\n",
      "|         1|       35|2019-08-16 00:00:00|\n",
      "|         2|       65|2019-08-17 00:00:00|\n",
      "|         3|       20|2019-08-18 00:00:00|\n",
      "+----------+---------+-------------------+\n",
      "\n"
     ]
    }
   ],
   "source": [
    "products = spark.createDataFrame(products)\n",
    "products.show()"
   ]
  },
  {
   "cell_type": "code",
   "execution_count": 28,
   "metadata": {},
   "outputs": [
    {
     "name": "stdout",
     "output_type": "stream",
     "text": [
      "+----------+-----+\n",
      "|product_id|price|\n",
      "+----------+-----+\n",
      "|         2|   50|\n",
      "|         1|   35|\n",
      "|         3|   10|\n",
      "+----------+-----+\n",
      "\n"
     ]
    }
   ],
   "source": [
    "from pyspark.sql.functions import max, lit\n",
    "\n",
    "products \\\n",
    ".where('change_date <= \"2019-08-16\"') \\\n",
    ".groupby('product_id') \\\n",
    ".agg(max('change_date').alias('change_date')) \\\n",
    ".join(\n",
    "    products,\n",
    "    ['product_id', 'change_date'],\n",
    "    'inner'\n",
    ") \\\n",
    ".withColumnRenamed('new_price', 'price') \\\n",
    ".select(['product_id', 'price']) \\\n",
    ".union(\n",
    "    products \\\n",
    "    .where(f\"\"\"product_id not in {tuple(products \\\n",
    "                                .where('change_date <= \"2019-08-16\"') \\\n",
    "                                .toPandas()['product_id'] \\\n",
    "                                .to_list())}\"\"\") \\\n",
    "    .withColumn('price', lit(10)) \\\n",
    "    .select(['product_id', 'price'])\n",
    ") \\\n",
    ".show()\n"
   ]
  }
 ],
 "metadata": {
  "kernelspec": {
   "display_name": "path",
   "language": "python",
   "name": "python3"
  },
  "language_info": {
   "codemirror_mode": {
    "name": "ipython",
    "version": 3
   },
   "file_extension": ".py",
   "mimetype": "text/x-python",
   "name": "python",
   "nbconvert_exporter": "python",
   "pygments_lexer": "ipython3",
   "version": "3.13.0"
  }
 },
 "nbformat": 4,
 "nbformat_minor": 4
}
