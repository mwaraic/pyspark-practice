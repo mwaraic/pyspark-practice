{
 "cells": [
  {
   "cell_type": "code",
   "execution_count": null,
   "metadata": {},
   "outputs": [],
   "source": [
    "!pip install pandas\n",
    "!pip install pyspark\n",
    "!pip install pyarrow"
   ]
  },
  {
   "cell_type": "code",
   "execution_count": null,
   "metadata": {},
   "outputs": [],
   "source": [
    "from pyspark.sql import SparkSession\n",
    " \n",
    "# Building the SparkSession and name \n",
    "# it :'pandas to spark'\n",
    "spark = SparkSession.builder.appName(\n",
    "  \"pandas to spark\").getOrCreate()\n",
    "\n",
    "spark.conf.set(\"spark.sql.execution.arrow.pyspark.enabled\", \"true\")"
   ]
  },
  {
   "cell_type": "code",
   "execution_count": 5,
   "metadata": {},
   "outputs": [],
   "source": [
    "import pandas as pd\n",
    "\n",
    "data = [[1, 10, 5, 10, 10], [2, 20, 20, 20, 20], [3, 10, 30, 20, 20], [4, 10, 40, 40, 40]]\n",
    "insurance = pd.DataFrame(data, columns=['pid', 'tiv_2015', 'tiv_2016', 'lat', 'lon']).astype({'pid':'Int64', 'tiv_2015':'Float64', 'tiv_2016':'Float64', 'lat':'Float64', 'lon':'Float64'})"
   ]
  },
  {
   "cell_type": "code",
   "execution_count": 6,
   "metadata": {},
   "outputs": [
    {
     "name": "stdout",
     "output_type": "stream",
     "text": [
      "+---+--------+--------+----+----+\n",
      "|pid|tiv_2015|tiv_2016| lat| lon|\n",
      "+---+--------+--------+----+----+\n",
      "|  1|    10.0|     5.0|10.0|10.0|\n",
      "|  2|    20.0|    20.0|20.0|20.0|\n",
      "|  3|    10.0|    30.0|20.0|20.0|\n",
      "|  4|    10.0|    40.0|40.0|40.0|\n",
      "+---+--------+--------+----+----+\n",
      "\n"
     ]
    }
   ],
   "source": [
    "insurance = spark.createDataFrame(insurance)\n",
    "insurance.show()"
   ]
  },
  {
   "cell_type": "code",
   "execution_count": 23,
   "metadata": {},
   "outputs": [
    {
     "name": "stdout",
     "output_type": "stream",
     "text": [
      "+--------+\n",
      "|tiv_2016|\n",
      "+--------+\n",
      "|    45.0|\n",
      "+--------+\n",
      "\n"
     ]
    }
   ],
   "source": [
    "from pyspark.sql.functions import count, col, sum, round\n",
    "\n",
    "investment = insurance \\\n",
    "            .groupby('tiv_2015') \\\n",
    "            .agg(count('pid').alias('count')) \\\n",
    "            .where('count > 1')\n",
    "\n",
    "location = insurance \\\n",
    "            .groupby(['lat', 'lon']) \\\n",
    "            .agg(count('pid').alias('count')) \\\n",
    "            .where('count == 1')\n",
    "\n",
    "report = insurance \\\n",
    "         .where(col('tiv_2015').isin(investment.toPandas()['tiv_2015'].to_list()) \\\n",
    "                & col('lat').isin(location.toPandas()['lat'].to_list()) \\\n",
    "                & col('lon').isin(location.toPandas()['lon'].to_list())   ) \\\n",
    "         .agg(round(sum('tiv_2016'), 2).alias('tiv_2016'))\n",
    "\n",
    "report.show()"
   ]
  }
 ],
 "metadata": {
  "kernelspec": {
   "display_name": "path",
   "language": "python",
   "name": "python3"
  },
  "language_info": {
   "codemirror_mode": {
    "name": "ipython",
    "version": 3
   },
   "file_extension": ".py",
   "mimetype": "text/x-python",
   "name": "python",
   "nbconvert_exporter": "python",
   "pygments_lexer": "ipython3",
   "version": "3.13.0"
  }
 },
 "nbformat": 4,
 "nbformat_minor": 4
}
