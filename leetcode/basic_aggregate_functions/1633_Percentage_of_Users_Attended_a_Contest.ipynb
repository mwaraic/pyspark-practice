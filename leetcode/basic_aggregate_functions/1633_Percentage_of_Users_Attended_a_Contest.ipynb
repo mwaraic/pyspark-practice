{
 "cells": [
  {
   "cell_type": "code",
   "execution_count": null,
   "metadata": {},
   "outputs": [],
   "source": [
    "!pip install pandas\n",
    "!pip install pyspark\n",
    "!pip install pyarrow"
   ]
  },
  {
   "cell_type": "code",
   "execution_count": null,
   "metadata": {},
   "outputs": [],
   "source": [
    "from pyspark.sql import SparkSession\n",
    " \n",
    "# Building the SparkSession and name \n",
    "# it :'pandas to spark'\n",
    "spark = SparkSession.builder.appName(\n",
    "  \"pandas to spark\").getOrCreate()\n",
    "\n",
    "spark.conf.set(\"spark.sql.execution.arrow.pyspark.enabled\", \"true\")"
   ]
  },
  {
   "cell_type": "code",
   "execution_count": 3,
   "metadata": {},
   "outputs": [],
   "source": [
    "import pandas as pd\n",
    "\n",
    "data = [[6, 'Alice'], [2, 'Bob'], [7, 'Alex']]\n",
    "users = pd.DataFrame(data, columns=['user_id', 'user_name']).astype({'user_id':'Int64', 'user_name':'object'})\n",
    "data = [[215, 6], [209, 2], [208, 2], [210, 6], [208, 6], [209, 7], [209, 6], [215, 7], [208, 7], [210, 2], [207, 2], [210, 7]]\n",
    "register = pd.DataFrame(data, columns=['contest_id', 'user_id']).astype({'contest_id':'Int64', 'user_id':'Int64'})"
   ]
  },
  {
   "cell_type": "code",
   "execution_count": 4,
   "metadata": {},
   "outputs": [
    {
     "name": "stdout",
     "output_type": "stream",
     "text": [
      "+-------+---------+\n",
      "|user_id|user_name|\n",
      "+-------+---------+\n",
      "|      6|    Alice|\n",
      "|      2|      Bob|\n",
      "|      7|     Alex|\n",
      "+-------+---------+\n",
      "\n",
      "+----------+-------+\n",
      "|contest_id|user_id|\n",
      "+----------+-------+\n",
      "|       215|      6|\n",
      "|       209|      2|\n",
      "|       208|      2|\n",
      "|       210|      6|\n",
      "|       208|      6|\n",
      "|       209|      7|\n",
      "|       209|      6|\n",
      "|       215|      7|\n",
      "|       208|      7|\n",
      "|       210|      2|\n",
      "|       207|      2|\n",
      "|       210|      7|\n",
      "+----------+-------+\n",
      "\n"
     ]
    }
   ],
   "source": [
    "users = spark.createDataFrame(users)\n",
    "users.show()\n",
    "\n",
    "register = spark.createDataFrame(register)\n",
    "register.show()"
   ]
  },
  {
   "cell_type": "code",
   "execution_count": 8,
   "metadata": {},
   "outputs": [
    {
     "name": "stdout",
     "output_type": "stream",
     "text": [
      "+----------+----------+\n",
      "|contest_id|percentage|\n",
      "+----------+----------+\n",
      "|       215|     66.67|\n",
      "|       209|     100.0|\n",
      "|       208|     100.0|\n",
      "|       210|     100.0|\n",
      "|       207|     33.33|\n",
      "+----------+----------+\n",
      "\n"
     ]
    }
   ],
   "source": [
    "from pyspark.sql.functions import count, col, round\n",
    "\n",
    "register \\\n",
    ".groupby('contest_id') \\\n",
    ".agg(count('user_id').alias('contestants')) \\\n",
    ".withColumn('percentage', round(col('contestants') / users.count() * 100, 2)) \\\n",
    ".select(['contest_id', 'percentage']) \\\n",
    ".show()"
   ]
  }
 ],
 "metadata": {
  "kernelspec": {
   "display_name": "path",
   "language": "python",
   "name": "python3"
  },
  "language_info": {
   "codemirror_mode": {
    "name": "ipython",
    "version": 3
   },
   "file_extension": ".py",
   "mimetype": "text/x-python",
   "name": "python",
   "nbconvert_exporter": "python",
   "pygments_lexer": "ipython3",
   "version": "3.13.0"
  }
 },
 "nbformat": 4,
 "nbformat_minor": 4
}
