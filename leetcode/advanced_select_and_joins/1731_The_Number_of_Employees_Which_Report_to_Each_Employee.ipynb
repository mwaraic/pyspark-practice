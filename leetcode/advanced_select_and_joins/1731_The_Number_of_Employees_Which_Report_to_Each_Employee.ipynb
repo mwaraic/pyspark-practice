{
 "cells": [
  {
   "cell_type": "code",
   "execution_count": null,
   "metadata": {},
   "outputs": [],
   "source": [
    "!pip install pandas\n",
    "!pip install pyspark\n",
    "!pip install pyarrow"
   ]
  },
  {
   "cell_type": "code",
   "execution_count": null,
   "metadata": {},
   "outputs": [],
   "source": [
    "from pyspark.sql import SparkSession\n",
    " \n",
    "# Building the SparkSession and name \n",
    "# it :'pandas to spark'\n",
    "spark = SparkSession.builder.appName(\n",
    "  \"pandas to spark\").getOrCreate()\n",
    "\n",
    "spark.conf.set(\"spark.sql.execution.arrow.pyspark.enabled\", \"true\")"
   ]
  },
  {
   "cell_type": "code",
   "execution_count": 3,
   "metadata": {},
   "outputs": [],
   "source": [
    "import pandas as pd\n",
    "\n",
    "data = [[9, 'Hercy', None, 43], [6, 'Alice', 9, 41], [4, 'Bob', 9, 36], [2, 'Winston', None, 37]]\n",
    "employees = pd.DataFrame(data, columns=['employee_id', 'name', 'reports_to', 'age']).astype({'employee_id':'Int64', 'name':'object', 'reports_to':'Int64', 'age':'Int64'})"
   ]
  },
  {
   "cell_type": "code",
   "execution_count": 4,
   "metadata": {},
   "outputs": [
    {
     "name": "stdout",
     "output_type": "stream",
     "text": [
      "+-----------+-------+----------+---+\n",
      "|employee_id|   name|reports_to|age|\n",
      "+-----------+-------+----------+---+\n",
      "|          9|  Hercy|      NULL| 43|\n",
      "|          6|  Alice|         9| 41|\n",
      "|          4|    Bob|         9| 36|\n",
      "|          2|Winston|      NULL| 37|\n",
      "+-----------+-------+----------+---+\n",
      "\n"
     ]
    }
   ],
   "source": [
    "employees = spark.createDataFrame(employees)\n",
    "employees.show()"
   ]
  },
  {
   "cell_type": "code",
   "execution_count": 10,
   "metadata": {},
   "outputs": [
    {
     "name": "stdout",
     "output_type": "stream",
     "text": [
      "+-----------+-----+-------------+-----------+\n",
      "|employee_id| name|reports_count|average_age|\n",
      "+-----------+-----+-------------+-----------+\n",
      "|          9|Hercy|            2|       39.0|\n",
      "+-----------+-----+-------------+-----------+\n",
      "\n"
     ]
    }
   ],
   "source": [
    "from pyspark.sql.functions import count, avg, col, round\n",
    "\n",
    "employees \\\n",
    ".groupby('reports_to') \\\n",
    ".agg(count('employee_id').alias('reports_count'),\n",
    "     avg('age').alias('average_age')) \\\n",
    ".withColumn('average_age', round(col('average_age'))) \\\n",
    ".withColumnRenamed('reports_to', 'employee_id') \\\n",
    ".join(employees,\n",
    "      'employee_id',\n",
    "      'inner') \\\n",
    ".select(['employee_id', 'name', 'reports_count', 'average_age']) \\\n",
    ".show()\n"
   ]
  }
 ],
 "metadata": {
  "kernelspec": {
   "display_name": "path",
   "language": "python",
   "name": "python3"
  },
  "language_info": {
   "codemirror_mode": {
    "name": "ipython",
    "version": 3
   },
   "file_extension": ".py",
   "mimetype": "text/x-python",
   "name": "python",
   "nbconvert_exporter": "python",
   "pygments_lexer": "ipython3",
   "version": "3.13.0"
  }
 },
 "nbformat": 4,
 "nbformat_minor": 4
}
