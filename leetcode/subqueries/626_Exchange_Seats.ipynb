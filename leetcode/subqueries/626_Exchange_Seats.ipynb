{
 "cells": [
  {
   "cell_type": "code",
   "execution_count": null,
   "metadata": {},
   "outputs": [],
   "source": [
    "!pip install pandas\n",
    "!pip install pyspark\n",
    "!pip install pyarrow"
   ]
  },
  {
   "cell_type": "code",
   "execution_count": null,
   "metadata": {},
   "outputs": [],
   "source": [
    "from pyspark.sql import SparkSession\n",
    " \n",
    "# Building the SparkSession and name \n",
    "# it :'pandas to spark'\n",
    "spark = SparkSession.builder.appName(\n",
    "  \"pandas to spark\").getOrCreate()\n",
    "\n",
    "spark.conf.set(\"spark.sql.execution.arrow.pyspark.enabled\", \"true\")"
   ]
  },
  {
   "cell_type": "code",
   "execution_count": 3,
   "metadata": {},
   "outputs": [],
   "source": [
    "import pandas as pd\n",
    "\n",
    "data = [[1, 'Abbot'], [2, 'Doris'], [3, 'Emerson'], [4, 'Green'], [5, 'Jeames']]\n",
    "seat = pd.DataFrame(data, columns=['id', 'student']).astype({'id':'Int64', 'student':'object'})"
   ]
  },
  {
   "cell_type": "code",
   "execution_count": 4,
   "metadata": {},
   "outputs": [
    {
     "name": "stdout",
     "output_type": "stream",
     "text": [
      "+---+-------+\n",
      "| id|student|\n",
      "+---+-------+\n",
      "|  1|  Abbot|\n",
      "|  2|  Doris|\n",
      "|  3|Emerson|\n",
      "|  4|  Green|\n",
      "|  5| Jeames|\n",
      "+---+-------+\n",
      "\n"
     ]
    }
   ],
   "source": [
    "seat = spark.createDataFrame(seat)\n",
    "seat.show()"
   ]
  },
  {
   "cell_type": "code",
   "execution_count": null,
   "metadata": {},
   "outputs": [
    {
     "name": "stdout",
     "output_type": "stream",
     "text": [
      "+---+-------+\n",
      "| id|student|\n",
      "+---+-------+\n",
      "|  1|  Doris|\n",
      "|  2|  Abbot|\n",
      "|  3|  Green|\n",
      "|  4|Emerson|\n",
      "|  5| Jeames|\n",
      "+---+-------+\n",
      "\n"
     ]
    }
   ],
   "source": [
    "from pyspark.sql.functions import when, col\n",
    "\n",
    "seat \\\n",
    ".withColumn('id' , when(col('id') % 2 == 0, col('id') - 1) \\\n",
    "                  .when((col('id') % 2 == 1) & (col('id') != seat.toPandas()['id'].tolist().pop()), col('id') + 1) \\\n",
    "                  .otherwise(col('id'))) \\\n",
    ".sort('id') \\\n",
    ".show()\n"
   ]
  },
  {
   "cell_type": "code",
   "execution_count": null,
   "metadata": {},
   "outputs": [],
   "source": [
    "array = [1, 2, 3, 4, 5]\n",
    "\n",
    "# Two Pointer Technique\n",
    "\n",
    "def two_pointer(array, target):\n",
    "  leftPointer = 0\n",
    "  rightPointer = len(array) - 1\n",
    "  current_sum = 0\n",
    "  pairs = []\n",
    "  \n",
    "  while leftPointer != rightPointer:\n",
    "    current_sum = array[leftPointer] + array[rightPointer]\n",
    "    if current_sum == target:\n",
    "      pairs.append((array[leftPointer], array[rightPointer]))\n",
    "      current_sum = 0\n",
    "    if current_sum < target:\n",
    "      leftPointer+=1\n",
    "    elif current_sum > target:\n",
    "      rightPointer-=1\n",
    "      \n",
    "  return pairs\n",
    "\n",
    "print(two_pointer(array, 3))\n",
    "\n",
    "# Binary Search (Iterative)\n",
    "\n",
    "def binary_search(array, target):\n",
    "  low = 0\n",
    "  high = len(array) - 1\n",
    "  \n",
    "  while low <= high:\n",
    "    mid = low + (high - low) // 2\n",
    "    if array[mid] == target:\n",
    "      return mid\n",
    "    elif array[mid] < target:\n",
    "      low = mid + 1\n",
    "    else:\n",
    "      high = mid - 1\n",
    "    \n",
    "  return -1\n",
    "\n",
    "print(binary_search(array, 1))\n",
    "    "
   ]
  }
 ],
 "metadata": {
  "kernelspec": {
   "display_name": "path",
   "language": "python",
   "name": "python3"
  },
  "language_info": {
   "codemirror_mode": {
    "name": "ipython",
    "version": 3
   },
   "file_extension": ".py",
   "mimetype": "text/x-python",
   "name": "python",
   "nbconvert_exporter": "python",
   "pygments_lexer": "ipython3",
   "version": "3.13.0"
  }
 },
 "nbformat": 4,
 "nbformat_minor": 4
}
