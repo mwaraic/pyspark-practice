{
 "cells": [
  {
   "cell_type": "code",
   "execution_count": null,
   "metadata": {},
   "outputs": [],
   "source": [
    "!pip install pandas\n",
    "!pip install pyspark\n",
    "!pip install pyarrow"
   ]
  },
  {
   "cell_type": "code",
   "execution_count": null,
   "metadata": {},
   "outputs": [],
   "source": [
    "from pyspark.sql import SparkSession\n",
    " \n",
    "# Building the SparkSession and name \n",
    "# it :'pandas to spark'\n",
    "spark = SparkSession.builder.appName(\n",
    "  \"pandas to spark\").getOrCreate()\n",
    "\n",
    "spark.conf.set(\"spark.sql.execution.arrow.pyspark.enabled\", \"true\")"
   ]
  },
  {
   "cell_type": "code",
   "execution_count": 3,
   "metadata": {},
   "outputs": [],
   "source": [
    "import pandas as pd\n",
    "\n",
    "data = [[1, 1, '2019-07-20', 'open_session'], [1, 1, '2019-07-20', 'scroll_down'], [1, 1, '2019-07-20', 'end_session'], [2, 4, '2019-07-20', 'open_session'], [2, 4, '2019-07-21', 'send_message'], [2, 4, '2019-07-21', 'end_session'], [3, 2, '2019-07-21', 'open_session'], [3, 2, '2019-07-21', 'send_message'], [3, 2, '2019-07-21', 'end_session'], [4, 3, '2019-06-25', 'open_session'], [4, 3, '2019-06-25', 'end_session']]\n",
    "activity = pd.DataFrame(data, columns=['user_id', 'session_id', 'activity_date', 'activity_type']).astype({'user_id':'Int64', 'session_id':'Int64', 'activity_date':'datetime64[ns]', 'activity_type':'object'})"
   ]
  },
  {
   "cell_type": "code",
   "execution_count": 4,
   "metadata": {},
   "outputs": [
    {
     "name": "stdout",
     "output_type": "stream",
     "text": [
      "+-------+----------+-------------------+-------------+\n",
      "|user_id|session_id|      activity_date|activity_type|\n",
      "+-------+----------+-------------------+-------------+\n",
      "|      1|         1|2019-07-20 00:00:00| open_session|\n",
      "|      1|         1|2019-07-20 00:00:00|  scroll_down|\n",
      "|      1|         1|2019-07-20 00:00:00|  end_session|\n",
      "|      2|         4|2019-07-20 00:00:00| open_session|\n",
      "|      2|         4|2019-07-21 00:00:00| send_message|\n",
      "|      2|         4|2019-07-21 00:00:00|  end_session|\n",
      "|      3|         2|2019-07-21 00:00:00| open_session|\n",
      "|      3|         2|2019-07-21 00:00:00| send_message|\n",
      "|      3|         2|2019-07-21 00:00:00|  end_session|\n",
      "|      4|         3|2019-06-25 00:00:00| open_session|\n",
      "|      4|         3|2019-06-25 00:00:00|  end_session|\n",
      "+-------+----------+-------------------+-------------+\n",
      "\n"
     ]
    }
   ],
   "source": [
    "activity = spark.createDataFrame(activity)\n",
    "activity.show()"
   ]
  },
  {
   "cell_type": "code",
   "execution_count": 31,
   "metadata": {},
   "outputs": [
    {
     "name": "stdout",
     "output_type": "stream",
     "text": [
      "+-------------------+------------+\n",
      "|                day|active_users|\n",
      "+-------------------+------------+\n",
      "|2019-07-21 00:00:00|           2|\n",
      "|2019-07-20 00:00:00|           2|\n",
      "+-------------------+------------+\n",
      "\n"
     ]
    }
   ],
   "source": [
    "from pyspark.sql.functions import col, count\n",
    "\n",
    "activity \\\n",
    ".withColumn(\"day\", col(\"activity_date\")) \\\n",
    ".where(\"day > '2019-06-27' and day <= '2019-07-27'\") \\\n",
    ".groupby([\"day\", \"user_id\"]) \\\n",
    ".agg(count(\"activity_type\").alias(\"activities\")) \\\n",
    ".where(\"activities >= 1\") \\\n",
    ".groupby(\"day\") \\\n",
    ".agg(count(\"user_id\").alias(\"active_users\")) \\\n",
    ".select([\"day\", \"active_users\"]) \\\n",
    ".show()"
   ]
  }
 ],
 "metadata": {
  "kernelspec": {
   "display_name": "path",
   "language": "python",
   "name": "python3"
  },
  "language_info": {
   "codemirror_mode": {
    "name": "ipython",
    "version": 3
   },
   "file_extension": ".py",
   "mimetype": "text/x-python",
   "name": "python",
   "nbconvert_exporter": "python",
   "pygments_lexer": "ipython3",
   "version": "3.13.0"
  }
 },
 "nbformat": 4,
 "nbformat_minor": 4
}
