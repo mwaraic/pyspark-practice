{
 "cells": [
  {
   "cell_type": "code",
   "execution_count": null,
   "metadata": {},
   "outputs": [],
   "source": [
    "!pip install pandas\n",
    "!pip install pyspark\n",
    "!pip install pyarrow"
   ]
  },
  {
   "cell_type": "code",
   "execution_count": null,
   "metadata": {},
   "outputs": [],
   "source": [
    "from pyspark.sql import SparkSession\n",
    " \n",
    "# Building the SparkSession and name \n",
    "# it :'pandas to spark'\n",
    "spark = SparkSession.builder.appName(\n",
    "  \"pandas to spark\").getOrCreate()\n",
    "\n",
    "spark.conf.set(\"spark.sql.execution.arrow.pyspark.enabled\", \"true\")"
   ]
  },
  {
   "cell_type": "code",
   "execution_count": 4,
   "metadata": {},
   "outputs": [],
   "source": [
    "import pandas as pd\n",
    "\n",
    "data = [[121, 'US', 'approved', 1000, '2018-12-18'], [122, 'US', 'declined', 2000, '2018-12-19'], [123, 'US', 'approved', 2000, '2019-01-01'], [124, 'DE', 'approved', 2000, '2019-01-07']]\n",
    "transactions = pd.DataFrame(data, columns=['id', 'country', 'state', 'amount', 'trans_date']).astype({'id':'Int64', 'country':'object', 'state':'object', 'amount':'Int64', 'trans_date':'datetime64[ns]'})"
   ]
  },
  {
   "cell_type": "code",
   "execution_count": 5,
   "metadata": {},
   "outputs": [
    {
     "name": "stdout",
     "output_type": "stream",
     "text": [
      "+---+-------+--------+------+-------------------+\n",
      "| id|country|   state|amount|         trans_date|\n",
      "+---+-------+--------+------+-------------------+\n",
      "|121|     US|approved|  1000|2018-12-18 00:00:00|\n",
      "|122|     US|declined|  2000|2018-12-19 00:00:00|\n",
      "|123|     US|approved|  2000|2019-01-01 00:00:00|\n",
      "|124|     DE|approved|  2000|2019-01-07 00:00:00|\n",
      "+---+-------+--------+------+-------------------+\n",
      "\n"
     ]
    }
   ],
   "source": [
    "transactions = spark.createDataFrame(transactions)\n",
    "transactions.show()"
   ]
  },
  {
   "cell_type": "code",
   "execution_count": 14,
   "metadata": {},
   "outputs": [
    {
     "name": "stdout",
     "output_type": "stream",
     "text": [
      "+-------+-------+--------------+---------------------+-----------+------------------+\n",
      "|  month|country|approved_count|approved_total_amount|trans_count|trans_total_amount|\n",
      "+-------+-------+--------------+---------------------+-----------+------------------+\n",
      "|2018-12|     US|             1|                 1000|          2|              3000|\n",
      "|2019-01|     US|             1|                 2000|          1|              2000|\n",
      "|2019-01|     DE|             1|                 2000|          1|              2000|\n",
      "+-------+-------+--------------+---------------------+-----------+------------------+\n",
      "\n"
     ]
    }
   ],
   "source": [
    "from pyspark.sql.functions import col, when, date_format, count, sum\n",
    "\n",
    "transactions \\\n",
    ".withColumn('approved_state', when(col('state') == 'approved', 1).otherwise(0)) \\\n",
    ".withColumn('approved_amount', col('approved_state') * col('amount')) \\\n",
    ".withColumn('month', date_format(col('trans_date'), \"yyyy-MM\")) \\\n",
    ".groupby(['month', 'country']) \\\n",
    ".agg(sum('approved_state').alias('approved_count'),\n",
    "     sum('approved_amount').alias('approved_total_amount'),\n",
    "     count('amount').alias('trans_count'),\n",
    "     sum('amount').alias('trans_total_amount')) \\\n",
    ".show()"
   ]
  }
 ],
 "metadata": {
  "kernelspec": {
   "display_name": "path",
   "language": "python",
   "name": "python3"
  },
  "language_info": {
   "codemirror_mode": {
    "name": "ipython",
    "version": 3
   },
   "file_extension": ".py",
   "mimetype": "text/x-python",
   "name": "python",
   "nbconvert_exporter": "python",
   "pygments_lexer": "ipython3",
   "version": "3.13.0"
  }
 },
 "nbformat": 4,
 "nbformat_minor": 4
}
