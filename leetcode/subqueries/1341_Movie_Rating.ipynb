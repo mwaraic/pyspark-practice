{
 "cells": [
  {
   "cell_type": "code",
   "execution_count": null,
   "metadata": {},
   "outputs": [],
   "source": [
    "!pip install pandas\n",
    "!pip install pyspark\n",
    "!pip install pyarrow"
   ]
  },
  {
   "cell_type": "code",
   "execution_count": null,
   "metadata": {},
   "outputs": [],
   "source": [
    "from pyspark.sql import SparkSession\n",
    " \n",
    "# Building the SparkSession and name \n",
    "# it :'pandas to spark'\n",
    "spark = SparkSession.builder.appName(\n",
    "  \"pandas to spark\").getOrCreate()\n",
    "\n",
    "spark.conf.set(\"spark.sql.execution.arrow.pyspark.enabled\", \"true\")"
   ]
  },
  {
   "cell_type": "code",
   "execution_count": 3,
   "metadata": {},
   "outputs": [],
   "source": [
    "import pandas as pd\n",
    "\n",
    "data = [[1, 'Avengers'], [2, 'Frozen 2'], [3, 'Joker']]\n",
    "movies = pd.DataFrame(data, columns=['movie_id', 'title']).astype({'movie_id':'Int64', 'title':'object'})\n",
    "data = [[1, 'Daniel'], [2, 'Monica'], [3, 'Maria'], [4, 'James']]\n",
    "users = pd.DataFrame(data, columns=['user_id', 'name']).astype({'user_id':'Int64', 'name':'object'})\n",
    "data = [[1, 1, 3, '2020-01-12'], [1, 2, 4, '2020-02-11'], [1, 3, 2, '2020-02-12'], [1, 4, 1, '2020-01-01'], [2, 1, 5, '2020-02-17'], [2, 2, 2, '2020-02-01'], [2, 3, 2, '2020-03-01'], [3, 1, 3, '2020-02-22'], [3, 2, 4, '2020-02-25']]\n",
    "movie_rating = pd.DataFrame(data, columns=['movie_id', 'user_id', 'rating', 'created_at']).astype({'movie_id':'Int64', 'user_id':'Int64', 'rating':'Int64', 'created_at':'datetime64[ns]'})"
   ]
  },
  {
   "cell_type": "code",
   "execution_count": 4,
   "metadata": {},
   "outputs": [
    {
     "name": "stdout",
     "output_type": "stream",
     "text": [
      "+--------+--------+\n",
      "|movie_id|   title|\n",
      "+--------+--------+\n",
      "|       1|Avengers|\n",
      "|       2|Frozen 2|\n",
      "|       3|   Joker|\n",
      "+--------+--------+\n",
      "\n",
      "+-------+------+\n",
      "|user_id|  name|\n",
      "+-------+------+\n",
      "|      1|Daniel|\n",
      "|      2|Monica|\n",
      "|      3| Maria|\n",
      "|      4| James|\n",
      "+-------+------+\n",
      "\n",
      "+--------+-------+------+-------------------+\n",
      "|movie_id|user_id|rating|         created_at|\n",
      "+--------+-------+------+-------------------+\n",
      "|       1|      1|     3|2020-01-12 00:00:00|\n",
      "|       1|      2|     4|2020-02-11 00:00:00|\n",
      "|       1|      3|     2|2020-02-12 00:00:00|\n",
      "|       1|      4|     1|2020-01-01 00:00:00|\n",
      "|       2|      1|     5|2020-02-17 00:00:00|\n",
      "|       2|      2|     2|2020-02-01 00:00:00|\n",
      "|       2|      3|     2|2020-03-01 00:00:00|\n",
      "|       3|      1|     3|2020-02-22 00:00:00|\n",
      "|       3|      2|     4|2020-02-25 00:00:00|\n",
      "+--------+-------+------+-------------------+\n",
      "\n"
     ]
    }
   ],
   "source": [
    "movies = spark.createDataFrame(movies)\n",
    "movies.show()\n",
    "\n",
    "users = spark.createDataFrame(users)\n",
    "users.show()\n",
    "\n",
    "movie_rating = spark.createDataFrame(movie_rating)\n",
    "movie_rating.show()"
   ]
  },
  {
   "cell_type": "code",
   "execution_count": 18,
   "metadata": {},
   "outputs": [
    {
     "name": "stdout",
     "output_type": "stream",
     "text": [
      "+--------+\n",
      "| results|\n",
      "+--------+\n",
      "|  Daniel|\n",
      "|Frozen 2|\n",
      "+--------+\n",
      "\n"
     ]
    }
   ],
   "source": [
    "from pyspark.sql.functions import count, col, avg\n",
    "\n",
    "movie_rating \\\n",
    ".groupby('user_id') \\\n",
    ".agg(count('movie_id').alias('number_of_movies')) \\\n",
    ".join(\n",
    "    users,\n",
    "    'user_id',\n",
    "    'inner'\n",
    ") \\\n",
    ".sort(['number_of_movies', 'name'], ascending=[False, True]) \\\n",
    ".withColumn('results', col('name')) \\\n",
    ".select('results') \\\n",
    ".limit(1) \\\n",
    ".unionAll(\n",
    "    movie_rating \\\n",
    "    .where('created_at > \"2020-01-31\" and created_at < \"2020-03-01\"') \\\n",
    "    .groupby('movie_id') \\\n",
    "    .agg(avg('rating').alias('average_rating')) \\\n",
    "    .join(\n",
    "        movies,\n",
    "        'movie_id',\n",
    "        'inner'\n",
    "    ) \\\n",
    "    .sort(['average_rating', 'title'], ascending=[False, True]) \\\n",
    "    .withColumn('results', col('title')) \\\n",
    "    .select('results') \\\n",
    "    .limit(1)\n",
    ") \\\n",
    ".show()"
   ]
  }
 ],
 "metadata": {
  "kernelspec": {
   "display_name": "path",
   "language": "python",
   "name": "python3"
  },
  "language_info": {
   "codemirror_mode": {
    "name": "ipython",
    "version": 3
   },
   "file_extension": ".py",
   "mimetype": "text/x-python",
   "name": "python",
   "nbconvert_exporter": "python",
   "pygments_lexer": "ipython3",
   "version": "3.13.0"
  }
 },
 "nbformat": 4,
 "nbformat_minor": 4
}
