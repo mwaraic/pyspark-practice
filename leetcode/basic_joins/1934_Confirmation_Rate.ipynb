{
 "cells": [
  {
   "cell_type": "code",
   "execution_count": null,
   "metadata": {},
   "outputs": [],
   "source": [
    "!pip install pandas\n",
    "!pip install pyspark\n",
    "!pip install pyarrow"
   ]
  },
  {
   "cell_type": "code",
   "execution_count": null,
   "metadata": {},
   "outputs": [],
   "source": [
    "from pyspark.sql import SparkSession\n",
    " \n",
    "# Building the SparkSession and name \n",
    "# it :'pandas to spark'\n",
    "spark = SparkSession.builder.appName(\n",
    "  \"pandas to spark\").getOrCreate()\n",
    "\n",
    "spark.conf.set(\"spark.sql.execution.arrow.pyspark.enabled\", \"true\")"
   ]
  },
  {
   "cell_type": "code",
   "execution_count": 3,
   "metadata": {},
   "outputs": [],
   "source": [
    "import pandas as pd\n",
    "\n",
    "data = [[3, '2020-03-21 10:16:13'], [7, '2020-01-04 13:57:59'], [2, '2020-07-29 23:09:44'], [6, '2020-12-09 10:39:37']]\n",
    "signups = pd.DataFrame(data, columns=['user_id', 'time_stamp']).astype({'user_id':'Int64', 'time_stamp':'datetime64[ns]'})\n",
    "data = [[3, '2021-01-06 03:30:46', 'timeout'], [3, '2021-07-14 14:00:00', 'timeout'], [7, '2021-06-12 11:57:29', 'confirmed'], [7, '2021-06-13 12:58:28', 'confirmed'], [7, '2021-06-14 13:59:27', 'confirmed'], [2, '2021-01-22 00:00:00', 'confirmed'], [2, '2021-02-28 23:59:59', 'timeout']]\n",
    "confirmations = pd.DataFrame(data, columns=['user_id', 'time_stamp', 'action']).astype({'user_id':'Int64', 'time_stamp':'datetime64[ns]', 'action':'object'})"
   ]
  },
  {
   "cell_type": "code",
   "execution_count": 4,
   "metadata": {},
   "outputs": [
    {
     "name": "stdout",
     "output_type": "stream",
     "text": [
      "+-------+-------------------+\n",
      "|user_id|         time_stamp|\n",
      "+-------+-------------------+\n",
      "|      3|2020-03-21 10:16:13|\n",
      "|      7|2020-01-04 13:57:59|\n",
      "|      2|2020-07-29 23:09:44|\n",
      "|      6|2020-12-09 10:39:37|\n",
      "+-------+-------------------+\n",
      "\n",
      "+-------+-------------------+---------+\n",
      "|user_id|         time_stamp|   action|\n",
      "+-------+-------------------+---------+\n",
      "|      3|2021-01-06 03:30:46|  timeout|\n",
      "|      3|2021-07-14 14:00:00|  timeout|\n",
      "|      7|2021-06-12 11:57:29|confirmed|\n",
      "|      7|2021-06-13 12:58:28|confirmed|\n",
      "|      7|2021-06-14 13:59:27|confirmed|\n",
      "|      2|2021-01-22 00:00:00|confirmed|\n",
      "|      2|2021-02-28 23:59:59|  timeout|\n",
      "+-------+-------------------+---------+\n",
      "\n"
     ]
    }
   ],
   "source": [
    "signups = spark.createDataFrame(signups)\n",
    "signups.show()\n",
    "\n",
    "confirmations = spark.createDataFrame(confirmations)\n",
    "confirmations.show()"
   ]
  },
  {
   "cell_type": "code",
   "execution_count": 15,
   "metadata": {},
   "outputs": [
    {
     "name": "stdout",
     "output_type": "stream",
     "text": [
      "+-------+-----------------+\n",
      "|user_id|confirmation_rate|\n",
      "+-------+-----------------+\n",
      "|      3|              0.0|\n",
      "|      7|              1.0|\n",
      "|      2|              0.5|\n",
      "|      6|              0.0|\n",
      "+-------+-----------------+\n",
      "\n"
     ]
    }
   ],
   "source": [
    "from pyspark.sql.functions import when, col, count, sum, round\n",
    "\n",
    "signups \\\n",
    "    .join(\n",
    "        confirmations,\n",
    "        'user_id',\n",
    "        'left'\n",
    "    ) \\\n",
    ".withColumn('action', when(col('action') == \"confirmed\", 1).when(col('action') == \"timeout\", 0)) \\\n",
    ".fillna(0) \\\n",
    ".groupby('user_id') \\\n",
    ".agg(count('action').alias('total_requested'), \n",
    "     sum('action').alias('total_confirmed')) \\\n",
    ".withColumn('confirmation_rate', round(col('total_confirmed') / col('total_requested'), 2)) \\\n",
    ".select(['user_id', 'confirmation_rate']) \\\n",
    ".show()"
   ]
  }
 ],
 "metadata": {
  "kernelspec": {
   "display_name": "path",
   "language": "python",
   "name": "python3"
  },
  "language_info": {
   "codemirror_mode": {
    "name": "ipython",
    "version": 3
   },
   "file_extension": ".py",
   "mimetype": "text/x-python",
   "name": "python",
   "nbconvert_exporter": "python",
   "pygments_lexer": "ipython3",
   "version": "3.13.0"
  }
 },
 "nbformat": 4,
 "nbformat_minor": 4
}
